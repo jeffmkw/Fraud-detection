{
 "cells": [
  {
   "cell_type": "code",
   "execution_count": 9,
   "metadata": {
    "collapsed": true
   },
   "outputs": [],
   "source": [
    "#welcome to Jeffery's world! Shoot me an email if you want to know more @ meik@purdue.edu\n",
    "import pandas as pd\n",
    "import numpy as np\n",
    "import sklearn\n",
    "import scipy\n",
    "from sklearn.metrics import cohen_kappa_score, make_scorer\n",
    "import gc\n",
    "kappastandard = 1"
   ]
  },
  {
   "cell_type": "code",
   "execution_count": 10,
   "metadata": {
    "collapsed": false
   },
   "outputs": [],
   "source": [
    "#load data into files\n",
    "dataset = pd.read_excel('data original.xlsx')\n",
    "dataset.drop(['Date', 'Comment','Authority?'],inplace=True,axis=1)\n",
    "dataset.columns = ['entry','text','tagger','fraud','policy','unauthorized','fee']\n",
    "\n",
    "dataset[['fraud','policy','unauthorized','fee']] = dataset[['fraud','policy','unauthorized','fee']].replace(['Yes','No'],[1,0])\n",
    "#create different tag file\n",
    "protaggers = ['lchen@vt.edu', 'jeffrey@vt.edu', 'lanham@vt.edu', 'shiva@vt.edu']\n",
    "\n",
    "pro_tag_file = dataset.loc[dataset['tagger'].isin(protaggers)]\n",
    "pro_tag_file.columns = ['entry','text','ptagger','pfraud','ppolicy','punauthorized','pfee']\n",
    "\n",
    "tag_file = dataset.loc[~dataset['tagger'].isin(protaggers)]\n",
    "\n",
    "#create the text file for it saves some ram....\n",
    "text_file = dataset[['entry','text']]\n",
    "text_file = text_file.drop_duplicates()\n",
    "\n",
    "taggerlist = set(tag_file['tagger'])"
   ]
  },
  {
   "cell_type": "code",
   "execution_count": 11,
   "metadata": {
    "collapsed": false
   },
   "outputs": [
    {
     "name": "stdout",
     "output_type": "stream",
     "text": [
      "fraud good taggers count:  2\n",
      "fraud good taggers count with damin:  6\n",
      "fraudfile.shape:  (660, 4)\n",
      "fraudfile.shape:  (631, 3)\n"
     ]
    },
    {
     "name": "stderr",
     "output_type": "stream",
     "text": [
      "//anaconda/lib/python3.5/site-packages/ipykernel/__main__.py:28: SettingWithCopyWarning: \n",
      "A value is trying to be set on a copy of a slice from a DataFrame\n",
      "\n",
      "See the caveats in the documentation: http://pandas.pydata.org/pandas-docs/stable/indexing.html#indexing-view-versus-copy\n",
      "//anaconda/lib/python3.5/site-packages/ipykernel/__main__.py:33: FutureWarning: sort(columns=....) is deprecated, use sort_values(by=.....)\n"
     ]
    },
    {
     "name": "stdout",
     "output_type": "stream",
     "text": [
      "fraudfile.shape:  (631, 3)\n"
     ]
    }
   ],
   "source": [
    "#this part is for fraud only\n",
    "#create good tagger list and another dataframe with their kappa\n",
    "fraud_tagger_dataframe_kappa = pd.DataFrame()\n",
    "fraud_goodtagger = protaggers\n",
    "\n",
    "#note: there is no kappa score provided by professor. So I am the authority :D\n",
    "for tagger in taggerlist:\n",
    "    temp_tagged_file = tag_file.loc[tag_file['tagger']==tagger]\n",
    "\n",
    "    comparefile = pd.merge(temp_tagged_file, pro_tag_file, how='inner', on=['entry'])\n",
    "\n",
    "    kappa = sklearn.metrics.cohen_kappa_score(comparefile['fraud'],comparefile['pfraud'])\n",
    "    if kappa >= kappastandard:\n",
    "        fraud_goodtagger.append(tagger)\n",
    "        temp_tagger = [[tagger,kappa]]\n",
    "        fraud_tagger_dataframe_kappa = fraud_tagger_dataframe_kappa.append(temp_tagger)\n",
    "    gc.collect\n",
    "\n",
    "#write the kappa of taggers to file\n",
    "fraud_tagger_dataframe_kappa.columns = ['tagger','kappa']\n",
    "print('fraud good taggers count: ',len(fraud_tagger_dataframe_kappa))\n",
    "print('fraud good taggers count with damin: ',len(fraud_goodtagger))\n",
    "writer = pd.ExcelWriter('fraud_tagger_dataframe_kappa.xlsx')\n",
    "fraud_tagger_dataframe_kappa.to_excel(writer)\n",
    "writer.save()\n",
    "\n",
    "fraudfile = dataset.loc[dataset['tagger'].isin(fraud_goodtagger)]\n",
    "fraudfile.drop(['policy','unauthorized','fee'],inplace=1,axis=1)\n",
    "print('fraudfile.shape: ', fraudfile.shape)\n",
    "\n",
    "#merge fraud dataset by first\n",
    "fraudfile_analysis = pd.merge(fraudfile,fraud_tagger_dataframe_kappa,on='tagger',how='left')\n",
    "fraudfile_analysis.sort(['entry','kappa'],ascending=[True,False])\n",
    "fraudfile_analysis_first_sort = fraudfile_analysis.groupby('entry').first()\n",
    "fraudfile_analysis_first_sort.drop('kappa',inplace=1,axis = 1)\n",
    "print('fraudfile.shape: ', fraudfile_analysis_first_sort.shape)\n",
    "\n",
    "#write first-selected doc to file\n",
    "writer = pd.ExcelWriter('fraudfile_analysis_first_sort.xlsx')\n",
    "fraudfile_analysis_first_sort.to_excel(writer)\n",
    "writer.save()\n",
    "\n",
    "\n",
    "#merge fraud dataset by voting (average)\n",
    "temp = fraudfile_analysis.groupby('entry', as_index=False)['fraud'].mean()\n",
    "temp.columns=['entry','score']\n",
    "temp['fraud'] = np.where(temp['score']>=0.5, 1,0)\n",
    "fraudfile_analysis_mean_merge = pd.merge(temp,text_file,on='entry',how='left')\n",
    "fraudfile_analysis_mean_merge.drop('score',axis=1,inplace=True)\n",
    "\n",
    "#writed average-selected doc to file\n",
    "print('fraudfile.shape: ', fraudfile_analysis_mean_merge.shape)\n",
    "writer = pd.ExcelWriter('fraudfile_analysis_mean_merge.xlsx')\n",
    "fraudfile_analysis_mean_merge.to_excel(writer)\n",
    "writer.save()"
   ]
  },
  {
   "cell_type": "code",
   "execution_count": 12,
   "metadata": {
    "collapsed": false
   },
   "outputs": [
    {
     "name": "stdout",
     "output_type": "stream",
     "text": [
      "policy good taggers count:  4\n",
      "policyfile.shape:  (1140, 4)\n",
      "policyfile.shape:  (1041, 3)\n"
     ]
    },
    {
     "name": "stderr",
     "output_type": "stream",
     "text": [
      "//anaconda/lib/python3.5/site-packages/ipykernel/__main__.py:26: SettingWithCopyWarning: \n",
      "A value is trying to be set on a copy of a slice from a DataFrame\n",
      "\n",
      "See the caveats in the documentation: http://pandas.pydata.org/pandas-docs/stable/indexing.html#indexing-view-versus-copy\n",
      "//anaconda/lib/python3.5/site-packages/ipykernel/__main__.py:31: FutureWarning: sort(columns=....) is deprecated, use sort_values(by=.....)\n"
     ]
    },
    {
     "name": "stdout",
     "output_type": "stream",
     "text": [
      "policyfile.shape:  (1041, 3)\n"
     ]
    }
   ],
   "source": [
    "#this part is for policy only\n",
    "#create good tagger list and another dataframe with their kappa\n",
    "policy_tagger_dataframe_kappa = pd.DataFrame()\n",
    "policy_goodtagger = protaggers\n",
    "\n",
    "for tagger in taggerlist:\n",
    "    temp_tagged_file = tag_file.loc[tag_file['tagger']==tagger]\n",
    "\n",
    "    comparefile = pd.merge(temp_tagged_file, pro_tag_file, how='inner', on=['entry'])\n",
    "\n",
    "    kappa = sklearn.metrics.cohen_kappa_score(comparefile['policy'],comparefile['ppolicy'])\n",
    "    if kappa >= kappastandard:\n",
    "        policy_goodtagger.append(tagger)\n",
    "        temp_tagger = [[tagger,kappa]]\n",
    "        policy_tagger_dataframe_kappa = policy_tagger_dataframe_kappa.append(temp_tagger)\n",
    "    gc.collect\n",
    "\n",
    "#write the kappa of taggers to file\n",
    "policy_tagger_dataframe_kappa.columns = ['tagger','kappa']\n",
    "print('policy good taggers count: ',len(policy_tagger_dataframe_kappa))\n",
    "writer = pd.ExcelWriter('policy_tagger_dataframe_kappa.xlsx')\n",
    "policy_tagger_dataframe_kappa.to_excel(writer)\n",
    "writer.save()\n",
    "\n",
    "policyfile = dataset.loc[dataset['tagger'].isin(policy_goodtagger)]\n",
    "policyfile.drop(['fraud','unauthorized','fee'],inplace=1,axis=1)\n",
    "print('policyfile.shape: ', policyfile.shape)\n",
    "\n",
    "#merge policy dataset by first\n",
    "policyfile_analysis = pd.merge(policyfile,policy_tagger_dataframe_kappa,on='tagger',how='left')\n",
    "policyfile_analysis.sort(['entry','kappa'],ascending=[True,False])\n",
    "policyfile_analysis_first_sort = policyfile_analysis.groupby('entry').first()\n",
    "policyfile_analysis_first_sort.drop('kappa',inplace=1,axis = 1)\n",
    "print('policyfile.shape: ', policyfile_analysis_first_sort.shape)\n",
    "\n",
    "#write first-selected doc to file\n",
    "writer = pd.ExcelWriter('policyfile_analysis_first_sort.xlsx')\n",
    "policyfile_analysis_first_sort.to_excel(writer)\n",
    "writer.save()\n",
    "\n",
    "\n",
    "#merge policy dataset by voting (average)\n",
    "temp = policyfile_analysis.groupby('entry', as_index=False)['policy'].mean()\n",
    "temp.columns=['entry','score']\n",
    "temp['policy'] = np.where(temp['score']>=0.5, 1,0)\n",
    "policyfile_analysis_mean_merge = pd.merge(temp,text_file,on='entry',how='left')\n",
    "policyfile_analysis_mean_merge.drop('score',axis=1,inplace=True)\n",
    "\n",
    "#writed average-selected doc to file\n",
    "print('policyfile.shape: ', policyfile_analysis_mean_merge.shape)\n",
    "writer = pd.ExcelWriter('policyfile_analysis_mean_merge.xlsx')\n",
    "policyfile_analysis_mean_merge.to_excel(writer)\n",
    "writer.save()\n"
   ]
  },
  {
   "cell_type": "code",
   "execution_count": 13,
   "metadata": {
    "collapsed": false
   },
   "outputs": [
    {
     "name": "stdout",
     "output_type": "stream",
     "text": [
      "unauthorized good taggers count:  4\n",
      "unauthorizedfile.shape:  (1600, 4)\n",
      "unauthorizedfile.shape:  (1392, 3)\n"
     ]
    },
    {
     "name": "stderr",
     "output_type": "stream",
     "text": [
      "//anaconda/lib/python3.5/site-packages/ipykernel/__main__.py:27: SettingWithCopyWarning: \n",
      "A value is trying to be set on a copy of a slice from a DataFrame\n",
      "\n",
      "See the caveats in the documentation: http://pandas.pydata.org/pandas-docs/stable/indexing.html#indexing-view-versus-copy\n",
      "//anaconda/lib/python3.5/site-packages/ipykernel/__main__.py:32: FutureWarning: sort(columns=....) is deprecated, use sort_values(by=.....)\n"
     ]
    },
    {
     "name": "stdout",
     "output_type": "stream",
     "text": [
      "unauthorizedfile.shape:  (1392, 3)\n"
     ]
    }
   ],
   "source": [
    "#this part is for unauthorized only\n",
    "#create good tagger list and another dataframe with their kappa\n",
    "unauthorized_tagger_dataframe_kappa = pd.DataFrame()\n",
    "unauthorized_goodtagger = protaggers\n",
    "\n",
    "#note: there is no kappa score provided by professor. So I am the authority :D\n",
    "for tagger in taggerlist:\n",
    "    temp_tagged_file = tag_file.loc[tag_file['tagger']==tagger]\n",
    "\n",
    "    comparefile = pd.merge(temp_tagged_file, pro_tag_file, how='inner', on=['entry'])\n",
    "\n",
    "    kappa = sklearn.metrics.cohen_kappa_score(comparefile['unauthorized'],comparefile['punauthorized'])\n",
    "    if kappa >= kappastandard:\n",
    "        unauthorized_goodtagger.append(tagger)\n",
    "        temp_tagger = [[tagger,kappa]]\n",
    "        unauthorized_tagger_dataframe_kappa = unauthorized_tagger_dataframe_kappa.append(temp_tagger)\n",
    "    gc.collect\n",
    "\n",
    "#write the kappa of taggers to file\n",
    "unauthorized_tagger_dataframe_kappa.columns = ['tagger','kappa']\n",
    "print('unauthorized good taggers count: ',len(unauthorized_tagger_dataframe_kappa))\n",
    "writer = pd.ExcelWriter('unauthorized_tagger_dataframe_kappa.xlsx')\n",
    "unauthorized_tagger_dataframe_kappa.to_excel(writer)\n",
    "writer.save()\n",
    "\n",
    "unauthorizedfile = dataset.loc[dataset['tagger'].isin(unauthorized_goodtagger)]\n",
    "unauthorizedfile.drop(['policy','fraud','fee'],inplace=1,axis=1)\n",
    "print('unauthorizedfile.shape: ', unauthorizedfile.shape)\n",
    "\n",
    "#merge unauthorized dataset by first\n",
    "unauthorizedfile_analysis = pd.merge(unauthorizedfile,unauthorized_tagger_dataframe_kappa,on='tagger',how='left')\n",
    "unauthorizedfile_analysis.sort(['entry','kappa'],ascending=[True,False])\n",
    "unauthorizedfile_analysis_first_sort = unauthorizedfile_analysis.groupby('entry').first()\n",
    "unauthorizedfile_analysis_first_sort.drop('kappa',inplace=1,axis = 1)\n",
    "print('unauthorizedfile.shape: ', unauthorizedfile_analysis_first_sort.shape)\n",
    "\n",
    "#write first-selected doc to file\n",
    "writer = pd.ExcelWriter('unauthorizedfile_analysis_first_sort.xlsx')\n",
    "unauthorizedfile_analysis_first_sort.to_excel(writer)\n",
    "writer.save()\n",
    "\n",
    "\n",
    "#merge unauthorized dataset by voting (average)\n",
    "temp = unauthorizedfile_analysis.groupby('entry', as_index=False)['unauthorized'].mean()\n",
    "temp.columns=['entry','score']\n",
    "temp['unauthorized'] = np.where(temp['score']>=0.5, 1,0)\n",
    "unauthorizedfile_analysis_mean_merge = pd.merge(temp,text_file,on='entry',how='left')\n",
    "unauthorizedfile_analysis_mean_merge.drop('score',axis=1,inplace=True)\n",
    "\n",
    "#writed average-selected doc to file\n",
    "print('unauthorizedfile.shape: ', unauthorizedfile_analysis_mean_merge.shape)\n",
    "writer = pd.ExcelWriter('unauthorizedfile_analysis_mean_merge.xlsx')\n",
    "unauthorizedfile_analysis_mean_merge.to_excel(writer)\n",
    "writer.save()\n"
   ]
  },
  {
   "cell_type": "code",
   "execution_count": 14,
   "metadata": {
    "collapsed": false
   },
   "outputs": [
    {
     "name": "stdout",
     "output_type": "stream",
     "text": [
      "fee good taggers count:  11\n",
      "feefile.shape:  (2810, 4)\n",
      "feefile.shape:  (2155, 3)\n"
     ]
    },
    {
     "name": "stderr",
     "output_type": "stream",
     "text": [
      "//anaconda/lib/python3.5/site-packages/ipykernel/__main__.py:27: SettingWithCopyWarning: \n",
      "A value is trying to be set on a copy of a slice from a DataFrame\n",
      "\n",
      "See the caveats in the documentation: http://pandas.pydata.org/pandas-docs/stable/indexing.html#indexing-view-versus-copy\n",
      "//anaconda/lib/python3.5/site-packages/ipykernel/__main__.py:32: FutureWarning: sort(columns=....) is deprecated, use sort_values(by=.....)\n"
     ]
    },
    {
     "name": "stdout",
     "output_type": "stream",
     "text": [
      "feefile.shape:  (2155, 3)\n"
     ]
    }
   ],
   "source": [
    "#this part is for fee only\n",
    "#create good tagger list and another dataframe with their kappa\n",
    "fee_tagger_dataframe_kappa = pd.DataFrame()\n",
    "fee_goodtagger = protaggers\n",
    "\n",
    "#note: there is no kappa score provided by professor. So I am the authority :D\n",
    "for tagger in taggerlist:\n",
    "    temp_tagged_file = tag_file.loc[tag_file['tagger']==tagger]\n",
    "\n",
    "    comparefile = pd.merge(temp_tagged_file, pro_tag_file, how='inner', on=['entry'])\n",
    "\n",
    "    kappa = sklearn.metrics.cohen_kappa_score(comparefile['fee'],comparefile['pfee'])\n",
    "    if kappa >= kappastandard:\n",
    "        fee_goodtagger.append(tagger)\n",
    "        temp_tagger = [[tagger,kappa]]\n",
    "        fee_tagger_dataframe_kappa = fee_tagger_dataframe_kappa.append(temp_tagger)\n",
    "    gc.collect\n",
    "\n",
    "#write the kappa of taggers to file\n",
    "fee_tagger_dataframe_kappa.columns = ['tagger','kappa']\n",
    "print('fee good taggers count: ',len(fee_tagger_dataframe_kappa))\n",
    "writer = pd.ExcelWriter('fee_tagger_dataframe_kappa.xlsx')\n",
    "fee_tagger_dataframe_kappa.to_excel(writer)\n",
    "writer.save()\n",
    "\n",
    "feefile = dataset.loc[dataset['tagger'].isin(fee_goodtagger)]\n",
    "feefile.drop(['policy','unauthorized','fraud'],inplace=1,axis=1)\n",
    "print('feefile.shape: ', feefile.shape)\n",
    "\n",
    "#merge fee dataset by first\n",
    "feefile_analysis = pd.merge(feefile,fee_tagger_dataframe_kappa,on='tagger',how='left')\n",
    "feefile_analysis.sort(['entry','kappa'],ascending=[True,False])\n",
    "feefile_analysis_first_sort = feefile_analysis.groupby('entry').first()\n",
    "feefile_analysis_first_sort.drop('kappa',inplace=1,axis = 1)\n",
    "print('feefile.shape: ', feefile_analysis_first_sort.shape)\n",
    "\n",
    "#write first-selected doc to file\n",
    "writer = pd.ExcelWriter('feefile_analysis_first_sort.xlsx')\n",
    "feefile_analysis_first_sort.to_excel(writer)\n",
    "writer.save()\n",
    "\n",
    "\n",
    "#merge fee dataset by voting (average)\n",
    "temp = feefile_analysis.groupby('entry', as_index=False)['fee'].mean()\n",
    "temp.columns=['entry','score']\n",
    "temp['fee'] = np.where(temp['score']>=0.5, 1,0)\n",
    "feefile_analysis_mean_merge = pd.merge(temp,text_file,on='entry',how='left')\n",
    "feefile_analysis_mean_merge.drop('score',axis=1,inplace=True)\n",
    "\n",
    "#writed average-selected doc to file\n",
    "print('feefile.shape: ', feefile_analysis_mean_merge.shape)\n",
    "writer = pd.ExcelWriter('feefile_analysis_mean_merge.xlsx')\n",
    "feefile_analysis_mean_merge.to_excel(writer)\n",
    "writer.save()\n"
   ]
  },
  {
   "cell_type": "code",
   "execution_count": null,
   "metadata": {
    "collapsed": true
   },
   "outputs": [],
   "source": []
  },
  {
   "cell_type": "code",
   "execution_count": 15,
   "metadata": {
    "collapsed": false
   },
   "outputs": [
    {
     "data": {
      "text/html": [
       "<div>\n",
       "<table border=\"1\" class=\"dataframe\">\n",
       "  <thead>\n",
       "    <tr style=\"text-align: right;\">\n",
       "      <th></th>\n",
       "      <th>tagger</th>\n",
       "      <th>kappa</th>\n",
       "    </tr>\n",
       "  </thead>\n",
       "  <tbody>\n",
       "    <tr>\n",
       "      <th>0</th>\n",
       "      <td>hu417@purdue.edu</td>\n",
       "      <td>1.0</td>\n",
       "    </tr>\n",
       "    <tr>\n",
       "      <th>0</th>\n",
       "      <td>mspanier@purdue.edu</td>\n",
       "      <td>1.0</td>\n",
       "    </tr>\n",
       "  </tbody>\n",
       "</table>\n",
       "</div>"
      ],
      "text/plain": [
       "                tagger  kappa\n",
       "0     hu417@purdue.edu    1.0\n",
       "0  mspanier@purdue.edu    1.0"
      ]
     },
     "execution_count": 15,
     "metadata": {},
     "output_type": "execute_result"
    }
   ],
   "source": [
    "fraud_tagger_dataframe_kappa.head(5)"
   ]
  },
  {
   "cell_type": "code",
   "execution_count": 16,
   "metadata": {
    "collapsed": false
   },
   "outputs": [
    {
     "data": {
      "text/html": [
       "<div>\n",
       "<table border=\"1\" class=\"dataframe\">\n",
       "  <thead>\n",
       "    <tr style=\"text-align: right;\">\n",
       "      <th></th>\n",
       "      <th>entry</th>\n",
       "      <th>text</th>\n",
       "      <th>tagger</th>\n",
       "      <th>fraud</th>\n",
       "      <th>kappa</th>\n",
       "    </tr>\n",
       "  </thead>\n",
       "  <tbody>\n",
       "    <tr>\n",
       "      <th>0</th>\n",
       "      <td>10</td>\n",
       "      <td>I was studying in the XXXX last year and opene...</td>\n",
       "      <td>jeffrey@vt.edu</td>\n",
       "      <td>0</td>\n",
       "      <td>NaN</td>\n",
       "    </tr>\n",
       "    <tr>\n",
       "      <th>1</th>\n",
       "      <td>18</td>\n",
       "      <td>The bank erroneously processed credit/ debit i...</td>\n",
       "      <td>lchen@vt.edu</td>\n",
       "      <td>0</td>\n",
       "      <td>NaN</td>\n",
       "    </tr>\n",
       "    <tr>\n",
       "      <th>2</th>\n",
       "      <td>36</td>\n",
       "      <td>MY BANK RECORDS FROM ASTORIA BANK WERE RELEASE...</td>\n",
       "      <td>mspanier@purdue.edu</td>\n",
       "      <td>0</td>\n",
       "      <td>1.0</td>\n",
       "    </tr>\n",
       "    <tr>\n",
       "      <th>3</th>\n",
       "      <td>45</td>\n",
       "      <td>I am trying to close a safe deposit box and sa...</td>\n",
       "      <td>jeffrey@vt.edu</td>\n",
       "      <td>0</td>\n",
       "      <td>NaN</td>\n",
       "    </tr>\n",
       "    <tr>\n",
       "      <th>4</th>\n",
       "      <td>70</td>\n",
       "      <td>I deposited a check into my account on XXXX/XX...</td>\n",
       "      <td>lchen@vt.edu</td>\n",
       "      <td>0</td>\n",
       "      <td>NaN</td>\n",
       "    </tr>\n",
       "  </tbody>\n",
       "</table>\n",
       "</div>"
      ],
      "text/plain": [
       "   entry                                               text  \\\n",
       "0     10  I was studying in the XXXX last year and opene...   \n",
       "1     18  The bank erroneously processed credit/ debit i...   \n",
       "2     36  MY BANK RECORDS FROM ASTORIA BANK WERE RELEASE...   \n",
       "3     45  I am trying to close a safe deposit box and sa...   \n",
       "4     70  I deposited a check into my account on XXXX/XX...   \n",
       "\n",
       "                tagger  fraud  kappa  \n",
       "0       jeffrey@vt.edu      0    NaN  \n",
       "1         lchen@vt.edu      0    NaN  \n",
       "2  mspanier@purdue.edu      0    1.0  \n",
       "3       jeffrey@vt.edu      0    NaN  \n",
       "4         lchen@vt.edu      0    NaN  "
      ]
     },
     "execution_count": 16,
     "metadata": {},
     "output_type": "execute_result"
    }
   ],
   "source": [
    "fraudfile_analysis.head(5)"
   ]
  },
  {
   "cell_type": "code",
   "execution_count": 17,
   "metadata": {
    "collapsed": false
   },
   "outputs": [
    {
     "data": {
      "text/html": [
       "<div>\n",
       "<table border=\"1\" class=\"dataframe\">\n",
       "  <thead>\n",
       "    <tr style=\"text-align: right;\">\n",
       "      <th></th>\n",
       "      <th>entry</th>\n",
       "      <th>text</th>\n",
       "      <th>tagger</th>\n",
       "      <th>fraud</th>\n",
       "      <th>policy</th>\n",
       "      <th>unauthorized</th>\n",
       "      <th>fee</th>\n",
       "    </tr>\n",
       "  </thead>\n",
       "  <tbody>\n",
       "    <tr>\n",
       "      <th>0</th>\n",
       "      <td>1</td>\n",
       "      <td>I 'm no longer an account holder of SunTrust. ...</td>\n",
       "      <td>cthieme@purdue.edu</td>\n",
       "      <td>1</td>\n",
       "      <td>1</td>\n",
       "      <td>0</td>\n",
       "      <td>1</td>\n",
       "    </tr>\n",
       "    <tr>\n",
       "      <th>1</th>\n",
       "      <td>1</td>\n",
       "      <td>I 'm no longer an account holder of SunTrust. ...</td>\n",
       "      <td>heo6@purdue.edu</td>\n",
       "      <td>1</td>\n",
       "      <td>0</td>\n",
       "      <td>0</td>\n",
       "      <td>0</td>\n",
       "    </tr>\n",
       "    <tr>\n",
       "      <th>2</th>\n",
       "      <td>1</td>\n",
       "      <td>I 'm no longer an account holder of SunTrust. ...</td>\n",
       "      <td>li470@purdue.edu</td>\n",
       "      <td>0</td>\n",
       "      <td>1</td>\n",
       "      <td>0</td>\n",
       "      <td>0</td>\n",
       "    </tr>\n",
       "    <tr>\n",
       "      <th>3</th>\n",
       "      <td>1</td>\n",
       "      <td>I 'm no longer an account holder of SunTrust. ...</td>\n",
       "      <td>lo31@purdue.edu</td>\n",
       "      <td>1</td>\n",
       "      <td>0</td>\n",
       "      <td>0</td>\n",
       "      <td>0</td>\n",
       "    </tr>\n",
       "    <tr>\n",
       "      <th>4</th>\n",
       "      <td>2</td>\n",
       "      <td>After banking with Citibank for over 3 years, ...</td>\n",
       "      <td>land1@purdue.edu</td>\n",
       "      <td>1</td>\n",
       "      <td>1</td>\n",
       "      <td>0</td>\n",
       "      <td>0</td>\n",
       "    </tr>\n",
       "  </tbody>\n",
       "</table>\n",
       "</div>"
      ],
      "text/plain": [
       "   entry                                               text  \\\n",
       "0      1  I 'm no longer an account holder of SunTrust. ...   \n",
       "1      1  I 'm no longer an account holder of SunTrust. ...   \n",
       "2      1  I 'm no longer an account holder of SunTrust. ...   \n",
       "3      1  I 'm no longer an account holder of SunTrust. ...   \n",
       "4      2  After banking with Citibank for over 3 years, ...   \n",
       "\n",
       "               tagger  fraud  policy  unauthorized  fee  \n",
       "0  cthieme@purdue.edu      1       1             0    1  \n",
       "1     heo6@purdue.edu      1       0             0    0  \n",
       "2    li470@purdue.edu      0       1             0    0  \n",
       "3     lo31@purdue.edu      1       0             0    0  \n",
       "4    land1@purdue.edu      1       1             0    0  "
      ]
     },
     "execution_count": 17,
     "metadata": {},
     "output_type": "execute_result"
    }
   ],
   "source": [
    "#expereiment field\n",
    "tag_file.head(5)"
   ]
  },
  {
   "cell_type": "code",
   "execution_count": 18,
   "metadata": {
    "collapsed": false
   },
   "outputs": [
    {
     "data": {
      "text/html": [
       "<div>\n",
       "<table border=\"1\" class=\"dataframe\">\n",
       "  <thead>\n",
       "    <tr style=\"text-align: right;\">\n",
       "      <th></th>\n",
       "      <th>entry</th>\n",
       "      <th>text</th>\n",
       "    </tr>\n",
       "  </thead>\n",
       "  <tbody>\n",
       "    <tr>\n",
       "      <th>0</th>\n",
       "      <td>1</td>\n",
       "      <td>I 'm no longer an account holder of SunTrust. ...</td>\n",
       "    </tr>\n",
       "    <tr>\n",
       "      <th>4</th>\n",
       "      <td>2</td>\n",
       "      <td>After banking with Citibank for over 3 years, ...</td>\n",
       "    </tr>\n",
       "    <tr>\n",
       "      <th>8</th>\n",
       "      <td>6</td>\n",
       "      <td>There are two components to the bank fraud tha...</td>\n",
       "    </tr>\n",
       "    <tr>\n",
       "      <th>12</th>\n",
       "      <td>8</td>\n",
       "      <td>I have a checking account with JP Morgan Chase...</td>\n",
       "    </tr>\n",
       "    <tr>\n",
       "      <th>15</th>\n",
       "      <td>10</td>\n",
       "      <td>I was studying in the XXXX last year and opene...</td>\n",
       "    </tr>\n",
       "  </tbody>\n",
       "</table>\n",
       "</div>"
      ],
      "text/plain": [
       "    entry                                               text\n",
       "0       1  I 'm no longer an account holder of SunTrust. ...\n",
       "4       2  After banking with Citibank for over 3 years, ...\n",
       "8       6  There are two components to the bank fraud tha...\n",
       "12      8  I have a checking account with JP Morgan Chase...\n",
       "15     10  I was studying in the XXXX last year and opene..."
      ]
     },
     "execution_count": 18,
     "metadata": {},
     "output_type": "execute_result"
    }
   ],
   "source": [
    "text_file.head(5)"
   ]
  }
 ],
 "metadata": {
  "anaconda-cloud": {},
  "kernelspec": {
   "display_name": "Python [Root]",
   "language": "python",
   "name": "Python [Root]"
  },
  "language_info": {
   "codemirror_mode": {
    "name": "ipython",
    "version": 3
   },
   "file_extension": ".py",
   "mimetype": "text/x-python",
   "name": "python",
   "nbconvert_exporter": "python",
   "pygments_lexer": "ipython3",
   "version": "3.5.2"
  }
 },
 "nbformat": 4,
 "nbformat_minor": 0
}
