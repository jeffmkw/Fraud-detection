{
 "cells": [
  {
   "cell_type": "code",
   "execution_count": 45,
   "metadata": {
    "collapsed": true
   },
   "outputs": [],
   "source": [
    "#welcome to Jeffery's world! Shoot me an email if you want to know more @ meik@purdue.edu\n",
    "import pandas as pd\n",
    "import sklearn\n",
    "import scipy\n",
    "from sklearn.metrics import cohen_kappa_score, make_scorer\n",
    "import gc"
   ]
  },
  {
   "cell_type": "code",
   "execution_count": 46,
   "metadata": {
    "collapsed": false
   },
   "outputs": [],
   "source": [
    "#load data into files\n",
    "dataset = pd.read_excel('data original.xlsx')\n",
    "dataset.drop(['Date', 'Comment','Authority?'],inplace=True,axis=1)\n",
    "dataset.columns = ['entry','text','tagger','fraud','policy','unauthorized','fee']\n",
    "\n",
    "#create master tag file\n",
    "protaggers = ['lchen@vt.edu', 'jeffrey@vt.edu', 'lanham@vt.edu', 'shiva@vt.edu']\n",
    "\n",
    "pro_tag_file = dataset.loc[dataset['tagger'].isin(protaggers)]\n",
    "pro_tag_file.columns = ['entry','text','ptagger','pfraud','ppolicy','pauthorization','pfee']\n",
    "tag_file = dataset.loc[~dataset['tagger'].isin(protaggers)]\n",
    "\n",
    "taggerlist = set(tag_file['tagger'])"
   ]
  },
  {
   "cell_type": "code",
   "execution_count": 47,
   "metadata": {
    "collapsed": true
   },
   "outputs": [],
   "source": [
    "\n",
    "policy_tagger_dataframe_kappa = pd.DataFrame()\n",
    "authorization_tagger_dataframe_kappa = pd.DataFrame()\n",
    "fee_tagger_dataframe_kappa = pd.DataFrame()\n"
   ]
  },
  {
   "cell_type": "code",
   "execution_count": 49,
   "metadata": {
    "collapsed": false
   },
   "outputs": [
    {
     "name": "stdout",
     "output_type": "stream",
     "text": [
      "Fraud good taggers count:  31\n",
      "fraudfile.shape:  (4670, 7)\n",
      "fraudfile.shape:  (4670, 4)\n"
     ]
    },
    {
     "name": "stderr",
     "output_type": "stream",
     "text": [
      "//anaconda/lib/python3.5/site-packages/ipykernel/__main__.py:24: SettingWithCopyWarning: \n",
      "A value is trying to be set on a copy of a slice from a DataFrame\n",
      "\n",
      "See the caveats in the documentation: http://pandas.pydata.org/pandas-docs/stable/indexing.html#indexing-view-versus-copy\n"
     ]
    }
   ],
   "source": [
    "#this part is for fraud only\n",
    "#create good tagger list and another dataframe with their kappa\n",
    "fraud_tagger_dataframe_kappa = pd.DataFrame()\n",
    "fraud_goodtagger = []\n",
    "\n",
    "#note: there is no kappa score provided by professor. So I am the authority :D\n",
    "for tagger in taggerlist:\n",
    "    temp_tagged_file = tag_file.loc[tag_file['tagger']==tagger]\n",
    "\n",
    "    comparefile = pd.merge(temp_tagged_file, pro_tag_file, how='inner', on=['entry'])\n",
    "\n",
    "    kappa = sklearn.metrics.cohen_kappa_score(comparefile['fraud'],comparefile['pfraud'])\n",
    "    if kappa >= 0.4:\n",
    "        fraud_goodtagger.append(tagger)\n",
    "        temp_tagger = [[tagger,kappa]]\n",
    "        fraud_tagger_dataframe_kappa = fraud_tagger_dataframe_kappa.append(temp_tagger)\n",
    "    gc.collect\n",
    "\n",
    "#cleaned up data and then merge them through different dataset.\n",
    "print('Fraud good taggers count: ',len(fraud_goodtagger))\n",
    "fraudfile = dataset.loc[dataset['tagger'].isin(fraud_goodtagger)]\n",
    "print('fraudfile.shape: ', fraudfile.shape)\n",
    "fraudfile.drop(['policy','unauthorized','fee'],inplace=1,axis=1)\n",
    "print('fraudfile.shape: ', fraudfile.shape)\n"
   ]
  },
  {
   "cell_type": "code",
   "execution_count": null,
   "metadata": {
    "collapsed": true
   },
   "outputs": [],
   "source": []
  },
  {
   "cell_type": "code",
   "execution_count": null,
   "metadata": {
    "collapsed": true
   },
   "outputs": [],
   "source": []
  },
  {
   "cell_type": "code",
   "execution_count": null,
   "metadata": {
    "collapsed": false
   },
   "outputs": [],
   "source": [
    "fraudfile"
   ]
  },
  {
   "cell_type": "code",
   "execution_count": null,
   "metadata": {
    "collapsed": true
   },
   "outputs": [],
   "source": []
  },
  {
   "cell_type": "code",
   "execution_count": null,
   "metadata": {
    "collapsed": false
   },
   "outputs": [],
   "source": [
    "pro_tag_file.columns.values"
   ]
  },
  {
   "cell_type": "code",
   "execution_count": null,
   "metadata": {
    "collapsed": false
   },
   "outputs": [],
   "source": [
    "#expereiment field\n",
    "tag_file.head(5)"
   ]
  },
  {
   "cell_type": "code",
   "execution_count": null,
   "metadata": {
    "collapsed": true
   },
   "outputs": [],
   "source": [
    "#data explore"
   ]
  }
 ],
 "metadata": {
  "anaconda-cloud": {},
  "kernelspec": {
   "display_name": "Python [Root]",
   "language": "python",
   "name": "Python [Root]"
  },
  "language_info": {
   "codemirror_mode": {
    "name": "ipython",
    "version": 3
   },
   "file_extension": ".py",
   "mimetype": "text/x-python",
   "name": "python",
   "nbconvert_exporter": "python",
   "pygments_lexer": "ipython3",
   "version": "3.5.2"
  }
 },
 "nbformat": 4,
 "nbformat_minor": 0
}
